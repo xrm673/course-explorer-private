{
 "cells": [
  {
   "cell_type": "code",
   "execution_count": 1,
   "id": "f6bd121b-8653-41d1-b029-03f2907000b3",
   "metadata": {},
   "outputs": [],
   "source": [
    "from selenium import webdriver\n",
    "from selenium.webdriver.common.by import By\n",
    "from selenium.webdriver.common.keys import Keys\n",
    "import time\n",
    "import json"
   ]
  },
  {
   "cell_type": "code",
   "execution_count": 17,
   "id": "bb3382c5-ebe4-4336-921a-681ee4422407",
   "metadata": {},
   "outputs": [
    {
     "name": "stdout",
     "output_type": "stream",
     "text": [
      "<div class=\"css-1l6bn5c-control\"><style data-emotion-css=\"g1d714-ValueContainer\">.css-g1d714-ValueContainer{-webkit-align-items:center;-webkit-box-align:center;-ms-flex-align:center;align-items:center;display:-webkit-box;display:-webkit-flex;display:-ms-flexbox;display:flex;-webkit-flex:1;-ms-flex:1;flex:1;-webkit-flex-wrap:wrap;-ms-flex-wrap:wrap;flex-wrap:wrap;padding:2px 8px;-webkit-overflow-scrolling:touch;position:relative;overflow:hidden;box-sizing:border-box;}</style><div class=\"css-g1d714-ValueContainer\"><style data-emotion-css=\"1wa3eu0-placeholder\">.css-1wa3eu0-placeholder{color:hsl(0,0%,50%);margin-left:2px;margin-right:2px;position:absolute;top:50%;-webkit-transform:translateY(-50%);-ms-transform:translateY(-50%);transform:translateY(-50%);box-sizing:border-box;}</style><div class=\"css-1wa3eu0-placeholder\">Select...</div><style data-emotion-css=\"b8ldur-Input\">.css-b8ldur-Input{margin:2px;padding-bottom:2px;padding-top:2px;visibility:visible;color:hsl(0,0%,20%);box-sizing:border-box;}</style><div class=\"css-b8ldur-Input\"><div class=\"\" style=\"display:inline-block\"><input aria-autocomplete=\"list\" autocapitalize=\"none\" autocomplete=\"off\" autocorrect=\"off\" id=\"react-select-9029-input\" spellcheck=\"false\" style=\"box-sizing:content-box;width:1px;label:input;background:0;border:0;font-size:inherit;opacity:1;outline:0;padding:0;color:inherit\" tabindex=\"0\" type=\"text\" value=\"\"/><div style=\"position:absolute;top:0;left:0;visibility:hidden;height:0;overflow:scroll;white-space:pre\"></div></div></div></div><style data-emotion-css=\"1hb7zxy-IndicatorsContainer\">.css-1hb7zxy-IndicatorsContainer{-webkit-align-items:center;-webkit-box-align:center;-ms-flex-align:center;align-items:center;-webkit-align-self:stretch;-ms-flex-item-align:stretch;align-self:stretch;display:-webkit-box;display:-webkit-flex;display:-ms-flexbox;display:flex;-webkit-flex-shrink:0;-ms-flex-negative:0;flex-shrink:0;box-sizing:border-box;}</style><div class=\"css-1hb7zxy-IndicatorsContainer\"><style data-emotion-css=\"tlfecz-indicatorContainer\">.css-tlfecz-indicatorContainer{color:hsl(0,0%,80%);display:-webkit-box;display:-webkit-flex;display:-ms-flexbox;display:flex;padding:8px;-webkit-transition:color 150ms;transition:color 150ms;box-sizing:border-box;}.css-tlfecz-indicatorContainer:hover{color:hsl(0,0%,60%);}</style><div aria-hidden=\"true\" class=\"Select-sc-9f4k3m-0 jtpiDd css-tlfecz-indicatorContainer\"><style data-emotion-css=\"6q0nyr-Svg\">.css-6q0nyr-Svg{display:inline-block;fill:currentColor;line-height:1;stroke:currentColor;stroke-width:0;}</style><svg aria-hidden=\"true\" class=\"css-6q0nyr-Svg\" focusable=\"false\" height=\"20\" viewbox=\"0 0 20 20\" width=\"20\"><path d=\"M4.516 7.548c0.436-0.446 1.043-0.481 1.576 0l3.908 3.747 3.908-3.747c0.533-0.481 1.141-0.446 1.574 0 0.436 0.445 0.408 1.197 0 1.615-0.406 0.418-4.695 4.502-4.695 4.502-0.217 0.223-0.502 0.335-0.787 0.335s-0.57-0.112-0.789-0.335c0 0-4.287-4.084-4.695-4.502s-0.436-1.17 0-1.615z\"></path></svg></div></div></div>\n",
      "Found Placeholder: Select...\n"
     ]
    }
   ],
   "source": [
    "import requests\n",
    "from bs4 import BeautifulSoup\n",
    "\n",
    "def menu_page():\n",
    "    cornell = \"https://www.ratemyprofessors.com/search/professors/298?q=*\"\n",
    "    response = requests.get(cornell)\n",
    "    page = BeautifulSoup(response.text,'html.parser')\n",
    "    container = page.find(\"div\", class_=\"css-1l6bn5c-control\")\n",
    "    print(container)\n",
    "    if container:\n",
    "        placeholder = container.find(\"div\", class_=\"css-1wa3eu0-placeholder\")\n",
    "        print(\"Found Placeholder:\", placeholder.text)\n",
    "menu_page()"
   ]
  },
  {
   "cell_type": "code",
   "execution_count": null,
   "id": "d3201e7e-cea3-4d90-a2fb-d7e6409d67c1",
   "metadata": {},
   "outputs": [],
   "source": []
  }
 ],
 "metadata": {
  "kernelspec": {
   "display_name": "Python 3 (ipykernel)",
   "language": "python",
   "name": "python3"
  },
  "language_info": {
   "codemirror_mode": {
    "name": "ipython",
    "version": 3
   },
   "file_extension": ".py",
   "mimetype": "text/x-python",
   "name": "python",
   "nbconvert_exporter": "python",
   "pygments_lexer": "ipython3",
   "version": "3.11.9"
  }
 },
 "nbformat": 4,
 "nbformat_minor": 5
}
